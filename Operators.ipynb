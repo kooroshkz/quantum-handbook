{
 "cells": [
  {
   "cell_type": "markdown",
   "metadata": {},
   "source": [
    "## Operators in quantum mechanics\n",
    "\n",
    "An operator is a mathematical object that *acts* on the state vector of the system and produces another state vector.\n",
    "$$\\hat{A} |\\psi\\rangle = |\\phi\\rangle \\, $$"
   ]
  },
  {
   "cell_type": "markdown",
   "metadata": {
    "vscode": {
     "languageId": "plaintext"
    }
   },
   "source": [
    "If we have an operator that acts on a state vector as\n",
    "    $$\\hat{A}|\\psi\\rangle=|\\phi\\rangle \\, ,$$\n",
    "    then we can define the operator $\\hat{C}=\\lambda \\hat{A}$, where $\\lambda$ is a complex number as follows\n",
    "    $$\\hat{C} |\\psi\\rangle= (\\lambda \\hat{A})|\\psi\\rangle=\\lambda(\\hat{A}|\\psi\\rangle)=\\lambda |\\phi\\rangle \\, .$$"
   ]
  },
  {
   "cell_type": "markdown",
   "metadata": {
    "vscode": {
     "languageId": "plaintext"
    }
   },
   "source": [
    "<hr>\n",
    "\n",
    "## Commutator of two operators"
   ]
  },
  {
   "cell_type": "markdown",
   "metadata": {
    "vscode": {
     "languageId": "plaintext"
    }
   },
   "source": [
    "The difference between a product of operators $\\hat{B}\\hat{A}$ and the product in the opposite order, namely $\\hat{B}\\hat{A}$, is defined as the *commutator* of these two operators: \n",
    "    $$ [\\hat{A},\\hat{B}]\\equiv \\hat{A}\\hat{B}-\\hat{B}\\hat{A} \\, . $$"
   ]
  },
  {
   "cell_type": "markdown",
   "metadata": {
    "vscode": {
     "languageId": "plaintext"
    }
   },
   "source": [
    "$[\\hat{A}\\hat{B},\\hat{C}]=\\hat{A}[\\hat{B},\\hat{C}] +[\\hat{A},\\hat{C}] \\hat{B}$"
   ]
  }
 ],
 "metadata": {
  "language_info": {
   "name": "python"
  }
 },
 "nbformat": 4,
 "nbformat_minor": 2
}
