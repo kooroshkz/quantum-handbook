{
 "cells": [
  {
   "cell_type": "markdown",
   "metadata": {},
   "source": [
    "**Note**: $ \\dot{x}(t) = \\frac{dx(t)}{dt} $"
   ]
  },
  {
   "cell_type": "markdown",
   "metadata": {
    "vscode": {
     "languageId": "plaintext"
    }
   },
   "source": [
    "### Key Terms:\n",
    "- **Ordinary Differential Equation (ODE)**: An equation involving a function and its derivatives.\n",
    "- **First-Order DE**: Involves the first derivative of the function ($\\dot{x}(t)$).\n",
    "    - $\\dot{\\vec{x}}(t) = A(t)\\vec{x}(t)$, where $A(t)$ is a matrix and $\\vec{x}(t)$ is a vector of functions, which is linear DE\n",
    "    - Key Properties:\n",
    "        - **Linearity**: If two functions are solutions, their sum is also a solution.\n",
    "        - **Superposition**: Important for physics; the combined effect of solutions equals their sum.\n",
    "    - General Solution: For $n$ equations, the solution is a combination of linearly independent functions: $ \\vec{x}(t) = c_1 \\vec{\\phi}_1(t) + c_2 \\vec{\\phi}_2(t) + \\dots + c_n \\vec{\\phi}_n(t) $\n",
    "- **Initial Conditions**: Values needed to solve for the constant after integration.\n",
    "\n",
    "\n",
    "## Solving Homogeneous Systems with Constant Coefficients\n",
    "\n",
    "### Matrix Exponential:\n",
    "The solution to a system with a constant matrix $A$ is given by:\n",
    "$$\n",
    "\\vec{x}(t) = e^{At}\\vec{x}_0\n",
    "$$\n",
    "Where $e^{At}$ is the **matrix exponential** and $\\vec{x}_0$ is the initial condition.\n",
    "\n",
    "### Case 1: **Diagonalizable Matrix**:\n",
    "If $A$ can be diagonalized, the solution is easy:\n",
    "$$\n",
    "A = P \\Lambda P^{-1}\n",
    "$$\n",
    "Where $\\Lambda$ is a diagonal matrix of eigenvalues. The general solution is:\n",
    "$$\n",
    "\\vec{x}(t) = P e^{\\Lambda t} P^{-1} \\vec{x}_0\n",
    "$$\n",
    "\n",
    "### Case 2: **Defective Matrix (Repeated Eigenvalues)**:\n",
    "When $A$ has repeated eigenvalues but fewer independent eigenvectors, we need **generalized eigenvectors**. The solution involves terms like:\n",
    "$$\n",
    "t e^{\\lambda t}\n",
    "$$\n",
    "\n",
    "---\n",
    "\n",
    "### Summary of Steps to Solve:\n",
    "1. **For a single equation**: Integrate and apply initial conditions.\n",
    "2. **For a system of equations**: Use matrix methods (find eigenvalues, eigenvectors, or matrix exponentials).\n",
    "3. **Homogeneous Systems**: No extra terms, use superposition of solutions.\n",
    "4. **Inhomogeneous Systems**: Add a particular solution to the homogeneous solution.\n",
    "\n",
    "---"
   ]
  },
  {
   "cell_type": "markdown",
   "metadata": {
    "vscode": {
     "languageId": "plaintext"
    }
   },
   "source": [
    "### **Handling Constants in Differential Equations**\n",
    "\n",
    "- When solving DEs, an exponential solution like $ e^{C} $ can be simplified as $ \\tilde{C} $:\n",
    "\n",
    "\n",
    "Now $ x(t) = e^{\\frac{1}{2} t^2} \\cdot e^C $, this can be rewritten as: $ x(t) = e^{\\frac{1}{2} t^2} \\cdot \\tilde{C} $\n",
    "\n",
    "\n",
    "\n"
   ]
  },
  {
   "cell_type": "markdown",
   "metadata": {},
   "source": [
    "---\n",
    "\n",
    "### Solve Systems of Linear Differential Equations:\n",
    "\n",
    "1. **Write the system** as $ \\dot{\\vec{x}} = A \\vec{x} $.\n",
    "2. **Find eigenvalues** by solving $ \\text{det}(A - \\lambda I) = 0 $.\n",
    "3. **Find eigenvectors** for each eigenvalue by solving $ (A - \\lambda I) \\vec{v} = 0 $.\n",
    "4. **Write the general solution** as $$ \\vec{x}(t) = c_1 e^{\\lambda_1 t} \\vec{v}_1 + c_2 e^{\\lambda_2 t} \\vec{v}_2 $$\n",
    "5. **Use initial conditions** to determine the constants $ c_1, c_2, \\dots $.\n",
    "\n",
    "This is the general approach to solving systems of linear differential equations with constant coefficients!"
   ]
  },
  {
   "cell_type": "markdown",
   "metadata": {},
   "source": [
    "#### Validity of General Solution = Eigenvectors form a linearly independent set"
   ]
  },
  {
   "cell_type": "markdown",
   "metadata": {
    "vscode": {
     "languageId": "plaintext"
    }
   },
   "source": [
    "$ v_1, v_2 $ are eigenvectors, so if $ \\det([v_1, v_2]) \\neq 0 $, then they are linearly independent."
   ]
  },
  {
   "cell_type": "markdown",
   "metadata": {
    "vscode": {
     "languageId": "plaintext"
    }
   },
   "source": [
    "---\n",
    "\n",
    "#### Example:\n",
    "Consider the differential equation:\n",
    "\n",
    "$$\n",
    "y''' - y'' + 9y' - 9y = 0\n",
    "$$\n",
    "\n",
    "### Find the general solution of this equation!\n",
    "\n",
    "**Solution:** We need to find the zeros of the characteristic polynomial:\n",
    "\n",
    "$$\n",
    "P(\\lambda) = \\lambda^3 - \\lambda^2 + 9\\lambda - 9\n",
    "$$\n",
    "\n",
    "It is easy to see that $ 1 $ is a zero, as $ P(1) = 0 $. Then we find that:\n",
    "\n",
    "$$\n",
    "P(\\lambda)/(\\lambda - 1) = \\lambda^2 + 9 = (\\lambda - 3i)(\\lambda + 3i)\n",
    "$$\n",
    "\n",
    "Hence, we find:\n",
    "\n",
    "$$\n",
    "P(\\lambda) = (\\lambda - 1)(\\lambda - 3i)(\\lambda + 3i)\n",
    "$$\n",
    "\n",
    "Each zero thus has multiplicity 1, and the general solution is:\n",
    "\n",
    "$$\n",
    "y(x) = c_1 e^x + c_2 e^{-i3x} + c_3 e^{i3x} = c_1 e^x + c'_2 \\sin(3x) + c'_3 \\cos(3x)\n",
    "$$\n"
   ]
  }
 ],
 "metadata": {
  "language_info": {
   "name": "python"
  }
 },
 "nbformat": 4,
 "nbformat_minor": 2
}
