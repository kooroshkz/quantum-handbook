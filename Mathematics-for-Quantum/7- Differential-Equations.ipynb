{
 "cells": [
  {
   "cell_type": "markdown",
   "metadata": {},
   "source": [
    "**Note**: $ \\dot{x}(t) = \\frac{dx(t)}{dt} $"
   ]
  },
  {
   "cell_type": "markdown",
   "metadata": {
    "vscode": {
     "languageId": "plaintext"
    }
   },
   "source": [
    "## 7.1 **Introduction to Differential Equations**\n",
    "\n",
    "### Key Terms:\n",
    "- **Ordinary Differential Equation (ODE)**: An equation involving a function and its derivatives.\n",
    "- **First-Order DE**: Involves the first derivative of the function ($\\dot{x}(t)$).\n",
    "- **Initial Conditions**: Values needed to solve for the constant after integration.\n",
    "\n",
    "### Example:\n",
    "If we have:\n",
    "$$\n",
    "\\dot{x}(t) = t\n",
    "$$\n",
    "It means:\n",
    "$$\n",
    "\\frac{dx}{dt} = t\n",
    "$$\n",
    "Integrating both sides gives:\n",
    "$$\n",
    "x(t) = \\frac{1}{2}t^2 + c\n",
    "$$\n",
    "We use initial conditions to solve for $c$.\n",
    "\n",
    "---\n",
    "\n",
    "## 7.2 **Theory of Systems of Differential Equations**\n",
    "\n",
    "### System of Differential Equations:\n",
    "- A **system** means there are multiple variables that change together, represented as vectors.\n",
    "  \n",
    "A system of first-order differential equations can be written as:\n",
    "$$\n",
    "\\dot{\\vec{x}}(t) = A(t)\\vec{x}(t)\n",
    "$$\n",
    "Where $A(t)$ is a matrix and $\\vec{x}(t)$ is a vector of functions.\n",
    "\n",
    "### Key Properties:\n",
    "- **Linearity**: If two functions are solutions, their sum is also a solution.\n",
    "- **Superposition**: Important for physics; the combined effect of solutions equals their sum.\n",
    "\n",
    "### General Solution:\n",
    "For $n$ equations, the solution is a combination of linearly independent functions:\n",
    "$$\n",
    "\\vec{x}(t) = c_1 \\vec{\\phi}_1(t) + c_2 \\vec{\\phi}_2(t) + \\dots + c_n \\vec{\\phi}_n(t)\n",
    "$$\n",
    "\n",
    "---\n",
    "\n",
    "## 7.3 **Solving Homogeneous Systems with Constant Coefficients**\n",
    "\n",
    "### Matrix Exponential:\n",
    "The solution to a system with a constant matrix $A$ is given by:\n",
    "$$\n",
    "\\vec{x}(t) = e^{At}\\vec{x}_0\n",
    "$$\n",
    "Where $e^{At}$ is the **matrix exponential** and $\\vec{x}_0$ is the initial condition.\n",
    "\n",
    "### Case 1: **Diagonalizable Matrix**:\n",
    "If $A$ can be diagonalized, the solution is easy:\n",
    "$$\n",
    "A = P \\Lambda P^{-1}\n",
    "$$\n",
    "Where $\\Lambda$ is a diagonal matrix of eigenvalues. The general solution is:\n",
    "$$\n",
    "\\vec{x}(t) = P e^{\\Lambda t} P^{-1} \\vec{x}_0\n",
    "$$\n",
    "\n",
    "### Case 2: **Defective Matrix (Repeated Eigenvalues)**:\n",
    "When $A$ has repeated eigenvalues but fewer independent eigenvectors, we need **generalized eigenvectors**. The solution involves terms like:\n",
    "$$\n",
    "t e^{\\lambda t}\n",
    "$$\n",
    "\n",
    "---\n",
    "\n",
    "### Summary of Steps to Solve:\n",
    "1. **For a single equation**: Integrate and apply initial conditions.\n",
    "2. **For a system of equations**: Use matrix methods (find eigenvalues, eigenvectors, or matrix exponentials).\n",
    "3. **Homogeneous Systems**: No extra terms, use superposition of solutions.\n",
    "4. **Inhomogeneous Systems**: Add a particular solution to the homogeneous solution.\n",
    "\n",
    "---"
   ]
  },
  {
   "cell_type": "markdown",
   "metadata": {
    "vscode": {
     "languageId": "plaintext"
    }
   },
   "source": [
    "### **Handling Constants in Differential Equations**\n",
    "\n",
    "- When solving DEs, an exponential solution like $ e^{C} $ can be simplified as $ \\tilde{C} $:\n",
    "\n",
    "\n",
    "Now $ x(t) = e^{\\frac{1}{2} t^2} \\cdot e^C $, this can be rewritten as: $ x(t) = e^{\\frac{1}{2} t^2} \\cdot \\tilde{C} $\n",
    "\n",
    "\n",
    "\n"
   ]
  }
 ],
 "metadata": {
  "language_info": {
   "name": "python"
  }
 },
 "nbformat": 4,
 "nbformat_minor": 2
}
