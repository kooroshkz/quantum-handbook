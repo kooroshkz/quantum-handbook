{
 "cells": [
  {
   "cell_type": "markdown",
   "metadata": {},
   "source": [
    "$ \\mathbf{a} \\cdot \\vec{b} = |\\vec{a}||\\vec{b}|\\cos\\theta $\n",
    "\n",
    "$\\vec{a} \\times \\vec{b} = |\\vec{a}||\\vec{b}|\\sin\\theta \\, \\mathbf{\\hat{n}} $\n",
    "\n",
    "Two vectors are said to be orthonormal of they are perpendicular (orthogonal) and both are unit vectors."
   ]
  }
 ],
 "metadata": {
  "language_info": {
   "name": "python"
  }
 },
 "nbformat": 4,
 "nbformat_minor": 2
}
