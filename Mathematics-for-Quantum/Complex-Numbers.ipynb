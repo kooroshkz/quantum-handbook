{
 "cells": [
  {
   "cell_type": "markdown",
   "metadata": {},
   "source": [
    "## Complex Numbers:\n",
    "\n",
    "$$Z = a + ib = r (\\cos{\\phi} + i \\sin{\\phi}) = r e^{i \\phi}$$\n",
    "\n",
    "Complex Conjugate:\n",
    "$Z^* = a - ib$\n",
    "\n",
    "### Euler's Formula:\n",
    "$$e^{i \\phi} = \\cos{\\phi} + i \\sin{\\phi}$$\n",
    "\n",
    "hence:\n",
    "$e^{x + iy} = e^{x} e^{iy} = e^{x} (\\cos{y} + i \\sin{y})$\n",
    "\n",
    "Also:\n",
    "    $$e^{2{\\rm i } \\pi} = 1$$\n",
    "    $$e^{{\\rm i} \\pi} = -1 $$ \n",
    "    $$e^{{\\rm i} \\pi/2} = {\\rm i}$$\n",
    "\n",
    "<hr>\n",
    "\n",
    "Complex functions: \n",
    "\n",
    "$f(z) = \\sum \\limits_{n=0}^{\\infty} \\frac{f^{(n)}(x_{0})}{n!} (z-x_{0})^{n}$\n"
   ]
  },
  {
   "cell_type": "markdown",
   "metadata": {
    "vscode": {
     "languageId": "plaintext"
    }
   },
   "source": [
    "<hr>\n",
    "\n",
    "$$\\cos(x) = \\frac{e^{{\\rm i} x} + e^{-{\\rm i} x}}{2} \\space \\space \\space \\sin(x) = \\frac{e^{{\\rm i} x} - e^{-{\\rm i} x}}{2i}$$"
   ]
  },
  {
   "cell_type": "markdown",
   "metadata": {
    "vscode": {
     "languageId": "plaintext"
    }
   },
   "source": [
    "$ x_k = e^{i2 \\pi k/N} $ are the N-th roots of unity.\n",
    "\n",
    "<hr>\n",
    "\n",
    "### Excercise:"
   ]
  },
  {
   "cell_type": "markdown",
   "metadata": {
    "vscode": {
     "languageId": "plaintext"
    }
   },
   "source": [
    "### (a) $x^3 = 1$\n",
    "\n",
    "**Solution:**\n",
    "\n",
    "$\n",
    "x^3 = 1 \\implies e^{i3a} = 1\n",
    "$\n",
    "\n",
    "$\n",
    "3a = n2\\pi \\implies a = \\frac{2\\pi n}{3} \\quad \\text{where} \\quad n = 0, \\pm1, \\pm2, \\ldots\n",
    "$\n",
    "\n",
    "$\n",
    "x = e^0 = 1, \\quad e^{i\\frac{2\\pi}{3}}, \\quad e^{-i\\frac{2\\pi}{3}}, \\ldots\n",
    "$\n",
    "\n",
    "### (b) $x^3 = i$\n",
    "\n",
    "**Solution:**\n",
    "\n",
    "$\n",
    "x^3 = i \\implies e^{i3a} = i\n",
    "$\n",
    "\n",
    "$\n",
    "3a = 2\\pi n + \\frac{\\pi}{2} \\implies a = \\frac{2\\pi n}{3} + \\frac{\\pi}{6} \\quad \\text{where} \\quad n = 0, \\pm1, \\pm2, \\ldots\n",
    "$\n",
    "\n",
    "$\n",
    "x = e^{i\\frac{\\pi}{6}}, \\quad e^{i\\frac{5\\pi}{6}}, \\quad e^{-i\\frac{\\pi}{2}} = -i, \\ldots\n",
    "$"
   ]
  }
 ],
 "metadata": {
  "language_info": {
   "name": "python"
  }
 },
 "nbformat": 4,
 "nbformat_minor": 2
}
