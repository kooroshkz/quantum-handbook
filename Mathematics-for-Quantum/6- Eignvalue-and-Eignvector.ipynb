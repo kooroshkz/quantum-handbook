{
 "cells": [
  {
   "cell_type": "markdown",
   "metadata": {},
   "source": [
    "## Hermitian Operator\n",
    "\n",
    "A Hermitian operator is a linear operator that satisfies the condition:\n",
    "\n",
    "$$ {| \\Psi \\rangle}^\\dagger = \\left( {| \\Psi \\rangle}^T \\right)^{*} $$\n",
    "\n",
    "A Hermitian operator if $A = A^\\dagger$"
   ]
  },
  {
   "cell_type": "markdown",
   "metadata": {
    "vscode": {
     "languageId": "plaintext"
    }
   },
   "source": [
    "## $A_{ij}$ Matrix\n",
    "\n",
    "$$\\begin{pmatrix}\n",
    "\\langle a | A | a \\rangle & \\langle a | A | b \\rangle & \\dots \\\\\n",
    "\\langle b | A | a \\rangle & \\langle b | A | b \\rangle & \\dots \\\\\n",
    "\\vdots & \\vdots & \\ddots\n",
    "\\end{pmatrix}$$"
   ]
  },
  {
   "cell_type": "markdown",
   "metadata": {
    "vscode": {
     "languageId": "plaintext"
    }
   },
   "source": [
    "## Eigenvalue and Eigenvector\n",
    "\n",
    "$$ A | \\psi \\rangle = \\lambda | \\psi \\rangle $$\n",
    "\n",
    "Where $\\lambda$ is the eigenvalue and $| \\psi \\rangle$ is the eigenvector.\n",
    "\n",
    "After calculating $\\lambda$ by $ det(A - \\lambda) = 0 $, we can find the eigenvector by solving the equation above.\n",
    "\n",
    "Then we have to normalize the eigenvector by $| \\psi \\rangle = \\frac{1}{\\sqrt{\\langle \\psi | \\psi \\rangle}} | \\psi \\rangle$"
   ]
  },
  {
   "cell_type": "markdown",
   "metadata": {
    "vscode": {
     "languageId": "plaintext"
    }
   },
   "source": [
    "## Unitary Operator\n",
    "\n",
    "A unitary operator is a linear operator that satisfies the condition:\n",
    "\n",
    "$$ U U^\\dagger = U^\\dagger U = I = 1 $$"
   ]
  }
 ],
 "metadata": {
  "language_info": {
   "name": "python"
  }
 },
 "nbformat": 4,
 "nbformat_minor": 2
}
