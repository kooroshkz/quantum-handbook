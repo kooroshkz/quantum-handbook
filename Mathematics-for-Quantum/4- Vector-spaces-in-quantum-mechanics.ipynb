{
 "cells": [
  {
   "cell_type": "markdown",
   "metadata": {},
   "source": [
    "## Ket\n",
    "\n",
    "$|~~\\rangle$ :  A physical state of a quantum  known as a **ket** (state vector, *ket* vector, or just a state. ) in *Dirac notation*.\n"
   ]
  },
  {
   "cell_type": "markdown",
   "metadata": {
    "vscode": {
     "languageId": "plaintext"
    }
   },
   "source": [
    "## Hilbert space\n",
    "\n",
    "Set of all possible state vectors forms a complex vector space $\\mathcal{H}$."
   ]
  },
  {
   "cell_type": "markdown",
   "metadata": {
    "vscode": {
     "languageId": "plaintext"
    }
   },
   "source": [
    "### Superposition\n",
    "A linear combination (or superposition) of two or more state vectors.\n",
    "\n",
    "$$|{\\Psi}\\rangle=c_1|{\\psi_1}\\rangle+c_2|{\\psi_1}\\rangle+c_3|{\\psi_3}\\rangle+...+c_n|{\\psi_n}\\rangle = \\sum_{i=1}^n c_i|{\\psi_i}\\rangle$$\n",
    "$ c_1,c_2,c_3,... $ are general complex numbers"
   ]
  },
  {
   "cell_type": "markdown",
   "metadata": {
    "vscode": {
     "languageId": "plaintext"
    }
   },
   "source": [
    "### Basis\n",
    "A set of state vectors $|\\psi_i\\rangle$ is said to form a basis for the state space if the set of vectors is complete and if, in addition, they are linearly independent.\n",
    "\n",
    "$$\\sum_{i=1}^n c_i |\\psi_i\\rangle = 0 \\space \\text{means} \\space  c_i = 0 \\space  \\text{for all}  \\space i $$"
   ]
  },
  {
   "cell_type": "markdown",
   "metadata": {
    "vscode": {
     "languageId": "plaintext"
    }
   },
   "source": [
    "### Bra vector\n",
    "\n",
    "$ \\langle{\\Psi}| $ complex conjugates of ket vector."
   ]
  },
  {
   "cell_type": "markdown",
   "metadata": {},
   "source": [
    "If a ket vector is given by $| \\Psi\\rangle= c_1 |\\psi_1\\rangle+c_2|\\psi_2\\rangle $ ,\n",
    "Then the corresponding bra vector will be given by:\n",
    "\n",
    "$$\\langle{\\Psi}| = c_1^*\\langle{\\psi_1}| + c_2^*\\langle{\\psi_2}|$$"
   ]
  },
  {
   "cell_type": "markdown",
   "metadata": {
    "vscode": {
     "languageId": "plaintext"
    }
   },
   "source": [
    "### Interpretation of the inner product\n",
    "\n",
    "$\\langle{\\psi}|{\\phi}\\rangle$ : probability amplitude or overlap of the state vectors $|{\\psi}\\rangle$ and $|{\\phi}\\rangle$"
   ]
  },
  {
   "cell_type": "markdown",
   "metadata": {},
   "source": [
    "The  probability of $|\\psi\\rangle $ in the state $ |\\phi\\rangle $ will be given by $ |\\langle \\psi | \\phi \\rangle|^2 \\ $, . \n",
    "\n",
    "Since the latter quantity is a probability, we know that it should satisfy the condition that\n",
    "$0 \\le |\\langle \\psi | \\phi \\rangle|^2 \\le 1$"
   ]
  },
  {
   "cell_type": "markdown",
   "metadata": {
    "vscode": {
     "languageId": "plaintext"
    }
   },
   "source": [
    "<hr>\n",
    "\n",
    "**Complex conjugate:** $\\langle \\psi | \\phi \\rangle=\\langle \\phi | \\psi \\rangle^*$\n",
    "\n",
    "**Distributivity and associativity:** $\\langle \\psi |\\{c_1 |\\phi_1\\rangle+c_2 |\\phi_2 \\rangle\\}=c_1\\langle \\psi | \\phi_1\\rangle+c_2\\langle \\psi | \\phi_2\\rangle$\n",
    "\n",
    "**Positivity:** $\\langle \\psi | \\psi \\rangle\\geq0 \\, .$\n",
    "          If $\\langle \\psi | \\psi \\rangle = 0$ then, this implies that the state vector $|\\psi\\rangle=0$ is the null element of the Hilbert space.\n",
    "\n",
    "**Orthogonality:** Two states $|\\psi \\rangle$ and $|\\phi \\rangle$ are said to be *orthogonal* (prependicular) if $\\langle \\psi | \\phi\\rangle=0 \\, .$\n",
    "\n",
    "**Norm:** The quantity $\\sqrt{\\langle \\psi | \\psi \\rangle}$ is known as the  *length* or the *norm* of the state vector $|\\psi\\rangle$. \n",
    "\n",
    "**Orthonormality:** A set of orthonormal basis vectors $\\{|\\psi_i\\rangle\\text{;}\\; i=1,2,3,...,n\\}$ will have the property $\\langle \\psi_i |\\psi_j \\rangle=\\delta_{ij}$ where $\\delta_{ij}$ is a mathematical symbol known as the *Kronecker delta*, which equals unity if $i=j$ and zero if $i\\neq j$."
   ]
  },
  {
   "cell_type": "markdown",
   "metadata": {
    "vscode": {
     "languageId": "plaintext"
    }
   },
   "source": [
    "<hr>\n",
    "\n",
    "$$ |\\phi_1\\rangle= \\begin{pmatrix} 1\\\\0\\\\0 \\\\\\vdots\\end{pmatrix} \\;, \\quad |\\phi_2\\rangle= \\begin{pmatrix} 0\\\\1\\\\0 \\\\\\vdots\\end{pmatrix} \\;, \\ldots $$"
   ]
  },
  {
   "cell_type": "markdown",
   "metadata": {
    "vscode": {
     "languageId": "plaintext"
    }
   },
   "source": [
    "$$\\langle \\chi|\\psi\\rangle=\\begin{pmatrix} \\chi^*_1 , \\chi^*_2 &,\\ldots \\end{pmatrix}\\begin{pmatrix} \\psi_1 \\\\ \\psi_2 \\\\ \\vdots \\end{pmatrix} \\, .$$ "
   ]
  },
  {
   "cell_type": "markdown",
   "metadata": {
    "vscode": {
     "languageId": "plaintext"
    }
   },
   "source": [
    "$$ |{\\Psi}\\rangle=   \\left( \\begin{array}{c}3 \\\\ -2i \\end{array} \\right) \\, , \\qquad\n",
    "\\langle{\\Psi}|=\\left( 3, 2i \\right) \\, ,$$"
   ]
  },
  {
   "cell_type": "markdown",
   "metadata": {},
   "source": [
    "## In practice\n",
    "The probability of measuring the state $|\\Psi\\rangle$ in the state $|\\phi_0\\rangle$ is given by the squared modulus of their scalar product:\n",
    "\n",
    "$$\n",
    "P = |\\langle \\Psi | \\phi_0 \\rangle|^2\n",
    "$$"
   ]
  },
  {
   "cell_type": "markdown",
   "metadata": {
    "vscode": {
     "languageId": "plaintext"
    }
   },
   "source": [
    "<hr>\n",
    "\n",
    "## Exercise:\n",
    "\n",
    "To show that the vectors $ |a\\rangle $, $ |b\\rangle $, and $ |c\\rangle $ are linearly dependent, we need to find scalars $ \\alpha $, $ \\beta $, and $ \\gamma $ such that:\n",
    "\n",
    "$ \\alpha |a\\rangle + \\beta |b\\rangle + \\gamma |c\\rangle = \\mathbf{0} $\n",
    "\n",
    "Given:\n",
    "\n",
    "$ |a\\rangle = \\begin{pmatrix} 1 \\\\ 2 \\\\ 1 \\end{pmatrix}, \\quad |b\\rangle = \\begin{pmatrix} 0 \\\\ 1 \\\\ 0 \\end{pmatrix}, \\quad |c\\rangle = \\begin{pmatrix} -1 \\\\ 0 \\\\ -1 \\end{pmatrix} $\n",
    "\n",
    "We solve:\n",
    "\n",
    "$ \\alpha \\begin{pmatrix} 1 \\\\ 2 \\\\ 1 \\end{pmatrix} + \\beta \\begin{pmatrix} 0 \\\\ 1 \\\\ 0 \\end{pmatrix} + \\gamma \\begin{pmatrix} -1 \\\\ 0 \\\\ -1 \\end{pmatrix} = \\begin{pmatrix} 0 \\\\ 0 \\\\ 0 \\end{pmatrix} $\n",
    "\n",
    "From this, we get:\n",
    "\n",
    "1. $ \\alpha - \\gamma = 0 $\n",
    "2. $ 2\\alpha + \\beta = 0 $\n",
    "\n",
    "Choosing $ \\alpha = 1 $ and $ \\gamma = 1 $, we can solve for $ \\beta $ and find $ \\beta = -2 $. Thus:\n",
    "\n",
    "$ 1 \\cdot |a\\rangle - 2 \\cdot |b\\rangle + 1 \\cdot |c\\rangle = \\mathbf{0} $\n",
    "\n",
    "Therefore, the vectors $ |a\\rangle $, $ |b\\rangle $, and $ |c\\rangle $ are linearly dependent."
   ]
  },
  {
   "cell_type": "markdown",
   "metadata": {
    "vscode": {
     "languageId": "plaintext"
    }
   },
   "source": [
    "<hr>\n",
    "\n",
    "In an orthonormal basis, the basis vectors $ |i\\rangle $ and $ |j\\rangle $ are orthogonal (perpendicular) and normalized (unit length).\n",
    "\n",
    "- **Inner Product**: The inner product $ \\langle i | j \\rangle $ of two orthonormal basis vectors $ |i\\rangle $ and $ |j\\rangle $ is given by the Kronecker delta $ \\delta_{ij} $:\n",
    "  - $ \\delta_{ij} = 1 $ if $ i = j $ (the vectors are the same).\n",
    "  - $ \\delta_{ij} = 0 $ if $ i \\ne j $ (the vectors are different).\n",
    "\n",
    "So, $ \\langle i | j \\rangle = \\delta_{ij} $ tells us that the inner product of two different orthonormal basis vectors is zero, and the inner product of a basis vector with itself is one."
   ]
  },
  {
   "cell_type": "markdown",
   "metadata": {
    "vscode": {
     "languageId": "plaintext"
    }
   },
   "source": [
    "<hr>\n",
    "\n",
    "Up direction spin: $|+\\rangle $\n",
    "\n",
    "Down direction $|-\\rangle$"
   ]
  },
  {
   "cell_type": "markdown",
   "metadata": {
    "vscode": {
     "languageId": "plaintext"
    }
   },
   "source": [
    "$$\n",
    "|\\Psi\\rangle = c_+ | + \\rangle + c_- | - \\rangle \\, , \\quad c_+ = \\langle +|\\Psi \\rangle\n",
    "\\, , \\quad c_- = \\langle -|\\Psi \\rangle \\, .\n",
    "$$  "
   ]
  },
  {
   "cell_type": "markdown",
   "metadata": {
    "vscode": {
     "languageId": "plaintext"
    }
   },
   "source": [
    "$$\n",
    "|\\Psi\\rangle = \\left( \\begin{array}{c} c_+ \\\\ c_- \\end{array}\\right) \\, ,\n",
    "$$\n",
    "and similarly for the basis vectors\n",
    "$$\n",
    "| + \\rangle = \\left( \\begin{array}{c} 1 \\\\ 0 \\end{array}\\right) \\, ,\\quad\n",
    "| - \\rangle = \\left( \\begin{array}{c} 0 \\\\ 1 \\end{array}\\right) \\, .\n",
    "$$"
   ]
  }
 ],
 "metadata": {
  "language_info": {
   "name": "python"
  }
 },
 "nbformat": 4,
 "nbformat_minor": 2
}
