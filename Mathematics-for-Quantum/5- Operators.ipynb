{
 "cells": [
  {
   "cell_type": "markdown",
   "metadata": {},
   "source": [
    "## Operators in quantum mechanics"
   ]
  },
  {
   "cell_type": "markdown",
   "metadata": {
    "vscode": {
     "languageId": "plaintext"
    }
   },
   "source": [
    "An operator is a mathematical object that *acts* on the state vector of the system and produces another state vector like:\n",
    "    $$\\hat{A}|\\psi\\rangle=|\\phi\\rangle \\, ,$$\n",
    "    then we can define the operator $\\hat{C}=\\lambda \\hat{A}$, where $\\lambda$ is a complex number as follows\n",
    "    $$\\hat{C} |\\psi\\rangle= (\\lambda \\hat{A})|\\psi\\rangle=\\lambda(\\hat{A}|\\psi\\rangle)=\\lambda |\\phi\\rangle \\, .$$"
   ]
  },
  {
   "cell_type": "markdown",
   "metadata": {
    "vscode": {
     "languageId": "plaintext"
    }
   },
   "source": [
    "<hr>\n",
    "\n",
    "## Commutator of two operators"
   ]
  },
  {
   "cell_type": "markdown",
   "metadata": {
    "vscode": {
     "languageId": "plaintext"
    }
   },
   "source": [
    "$$ [\\hat{A},\\hat{B}]\\equiv \\hat{A}\\hat{B}-\\hat{B}\\hat{A} \\, . $$"
   ]
  },
  {
   "cell_type": "markdown",
   "metadata": {
    "vscode": {
     "languageId": "plaintext"
    }
   },
   "source": [
    "$$[\\hat{A}\\hat{B},\\hat{C}]=\\hat{A}[\\hat{B},\\hat{C}] +[\\hat{A},\\hat{C}] \\hat{B}$$"
   ]
  },
  {
   "cell_type": "markdown",
   "metadata": {
    "vscode": {
     "languageId": "plaintext"
    }
   },
   "source": [
    "## Notice:\n",
    "\n",
    "Question that asks whether two operators commute should requre:\n",
    "\n",
    "$$ [\\hat{A},\\hat{B}]\\equiv \\hat{A}\\hat{B}-\\hat{B}\\hat{A} \\, = 0$$"
   ]
  },
  {
   "cell_type": "markdown",
   "metadata": {
    "vscode": {
     "languageId": "plaintext"
    }
   },
   "source": [
    "<hr>\n",
    "\n",
    "## Projection operator\n",
    "\n",
    "A projection operator like $ \\hat{A}^2 = \\hat{A} $ result the same by aplying it twice.\n",
    "\n",
    "### Explanation\n",
    "Given a basis $ \\{ | \\phi_i \\rangle \\} $ in an $ n $-dimensional Hilbert space, the operator $ \\hat{B}_i $ acts on a state $ | \\phi_j \\rangle $ as:\n",
    "\n",
    "$\n",
    "\\hat{B}_i | \\phi_j \\rangle = \\delta_{ij} | \\phi_j \\rangle\n",
    "$\n",
    "\n",
    "Here, $ \\delta_{ij} $ is the **Kronecker delta**, which is 1 if $ i = j $ and 0 if $ i \\neq j $. \n",
    "\n",
    "### Example\n",
    "Consider a 2-dimensional Hilbert space spanned by the vectors $ | \\phi_1 \\rangle $ and $ | \\phi_2 \\rangle $. The operator $ \\hat{B}_1 $ would act as:\n",
    "\n",
    "- $ \\hat{B}_1 | \\phi_1 \\rangle = | \\phi_1 \\rangle $\n",
    "- $ \\hat{B}_1 | \\phi_2 \\rangle = 0 $\n",
    "\n",
    "This satisfies the property of a projection operator because:\n",
    "\n",
    "$\n",
    "\\hat{B}_1^2 | \\phi_1 \\rangle = \\hat{B}_1 ( \\hat{B}_1 | \\phi_1 \\rangle ) = \\hat{B}_1 | \\phi_1 \\rangle = | \\phi_1 \\rangle\n",
    "$\n",
    "\n",
    "Thus, applying the operator twice has the same effect as applying it once.\n",
    "\n",
    "This is a basic example of a projection operator in quantum mechanics."
   ]
  },
  {
   "cell_type": "markdown",
   "metadata": {
    "vscode": {
     "languageId": "plaintext"
    }
   },
   "source": [
    "<hr>\n",
    "\n",
    "### Notice\n",
    "\n",
    "For an operator $\\hat{A}$ such that $$ \\hat{A}|\\psi\\rangle=|\\phi\\rangle $$ holds true, the already familiar complex conjugation is in general not valid\n",
    "    $$ \\langle\\psi|\\hat{A}\\neq \\langle\\phi | $$ \n"
   ]
  },
  {
   "cell_type": "markdown",
   "metadata": {
    "vscode": {
     "languageId": "plaintext"
    }
   },
   "source": [
    "<hr>\n",
    "\n",
    "## Hermitian adjoint operator"
   ]
  },
  {
   "cell_type": "markdown",
   "metadata": {
    "vscode": {
     "languageId": "plaintext"
    }
   },
   "source": [
    "$$\\hat{A}|\\psi\\rangle=|\\phi\\rangle\\; \\text{then}\\; \\langle \\psi|\\hat{A}^\\dagger= \\langle \\phi|$$"
   ]
  },
  {
   "cell_type": "markdown",
   "metadata": {
    "vscode": {
     "languageId": "plaintext"
    }
   },
   "source": [
    "<hr>\n",
    "\n",
    "## Matrix representation of operators\n",
    "\n",
    "$$\n",
    "    \\begin{pmatrix} \\varphi_1\\\\\\varphi_2\\\\\\varphi_3 \\\\\\vdots\\end{pmatrix} = \\begin{pmatrix} A_{11} & A_{12} & A_{13} & \\ldots \\\\ A_{21} & A_{22} & A_{23} & \\ldots\\\\A_{31} & A_{32} & A_{33} & \\ldots \\\\\\vdots & \\vdots & \\vdots & \\end{pmatrix} \\begin{pmatrix} \\psi_1\\\\\\psi_2\\\\\\psi_3 \\\\\\vdots\\end{pmatrix}\n",
    "    $$"
   ]
  },
  {
   "cell_type": "markdown",
   "metadata": {
    "vscode": {
     "languageId": "plaintext"
    }
   },
   "source": [
    "## Matrix representation of Hermitian operators (Hermitian adjoint)\n",
    "\n",
    "$$\n",
    "    \\begin{pmatrix} A_{11} & A_{12} & A_{13} & \\ldots \\\\ A_{21} & A_{22} & A_{23} & \\ldots\\\\A_{31} & A_{32} & A_{33} & \\ldots \\\\\\vdots & \\vdots & \\vdots & \\end{pmatrix}\\rightarrow \\begin{pmatrix} A_{11}^* & A_{21}^* & A_{31}^* & \\ldots \\\\ A_{12}^* & A_{22}^* & A_{32}^* & \\ldots\\\\A_{13}^* & A_{23}^* & A_{33}^* & \\ldots \\\\\\vdots & \\vdots & \\vdots & \\end{pmatrix}\n",
    "    $$\n"
   ]
  },
  {
   "cell_type": "markdown",
   "metadata": {
    "vscode": {
     "languageId": "plaintext"
    }
   },
   "source": [
    "<hr>\n",
    "\n",
    "## Examples\n",
    "\n",
    "<img src=\"../Files/Math/1.JPG\" width=\"700\">\n"
   ]
  }
 ],
 "metadata": {
  "language_info": {
   "name": "python"
  }
 },
 "nbformat": 4,
 "nbformat_minor": 2
}
