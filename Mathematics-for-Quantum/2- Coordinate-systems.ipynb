{
 "cells": [
  {
   "cell_type": "markdown",
   "metadata": {},
   "source": [
    "## Cartesian coordinates \n",
    "${\\bf r} = (x_1, \\ldots, x_n)$\n",
    "$x_{n} \\in \\mathbb{R}$\n",
    "\n",
    "Distance between two points ${\\bf r} = (x_1, \\ldots, x_n)$ and ${\\bf r}' = (x'_1, \\ldots, '_n)$:\n",
    "\n",
    "$$\\Delta s^2 = (x'_1 - x_1)^2 + (x'_2 - x_2)^2 + \\ldots + (x'_n - x_n)^2.$$\n",
    "\n",
    "## Polar coordinates\n",
    "\n",
    "${\\bf r} = (r, \\varphi)$\n",
    "$r \\in \\left<0, \\infty \\right)$, $\\varphi \\in \\left< 0,2\\pi \\right)$\n",
    "\n",
    "Infinitesimal distance: $$ds^2 = dr^2 + r^2 d\\varphi^2.$$\n",
    "\n",
    "Infinitesimal area: $$dA = r dr d\\varphi.$$\n",
    "\n",
    "## Cylindrical coordinates\n",
    "\n",
    "$ x = r \\cos \\varphi$\n",
    "\n",
    "$y = r \\sin \\varphi$\n",
    "\n",
    "$z = z$\n",
    "\n",
    "$ \\varphi = \\arctan(y/x)$\n",
    "\n",
    "${\\bf r} = (r, \\varphi, z)$\n",
    "$r \\in \\left<0, \\infty \\right)$, $\\varphi \\in \\left< 0,2\\pi \\right)$, $z \\in \\mathbb{R}$\n",
    "\n",
    "Infinitesimal distance: $$ds^2 = dr^2 + r^2 d\\varphi^2 + dz^2.$$\n",
    "\n",
    "Infinitesimal volume: $$dV = r dr d\\varphi dz.$$\n",
    "\n",
    "## Spherical coordinates\n",
    "\n",
    "${\\bf r} = (r, \\varphi, \\theta)$\n",
    "$r \\in \\left<0, \\infty \\right)$, $\\varphi \\in \\left< 0,2\\pi \\right)$, $\\theta \\in \\left< 0,\\pi \\right>$\n",
    "\n",
    "$$x = r \\cos \\varphi \\sin \\theta$$\n",
    "$$y = r \\sin\\varphi \\sin \\theta$$ \n",
    "$$z = r \\cos\\theta$$ \n",
    "\n",
    "\n",
    "$$r = \\sqrt{x^2+y^2+z^2}, \\qquad r \\in \\left<0, \\infty \\right)$$\n",
    "$$\\varphi = \\arctan(y/x) $$\n",
    "$$\\theta = \\arccos(\\frac{z}{\\sqrt{x^2+y^2+z^2}}), \\qquad \\theta \\in \\left< 0,\\pi \\right> $$\n",
    "\n",
    "Infinitesimal distance: \n",
    "$$ds^2 =r^2 (\\sin^2 \\theta d\\varphi^2 + d\\theta^2) +  dr^2 .$$\n",
    "\n",
    "Infinitesimal volume:\n",
    "$$dV = r^2 \\sin(\\theta) dr d\\varphi d\\theta.$$ \n"
   ]
  },
  {
   "cell_type": "markdown",
   "metadata": {
    "vscode": {
     "languageId": "plaintext"
    }
   },
   "source": [
    "<hr>\n",
    "\n",
    "$$ \\frac{\\partial}{\\partial x} f(r, \\varphi) =\n",
    "\\frac{\\partial f}{\\partial r} \\frac{\\partial r(x, y)}{\\partial x} +\n",
    "\\frac{\\partial f}{\\partial \\varphi} \\frac{\\partial \\varphi(x,y)}{\\partial x}\n",
    "$$"
   ]
  }
 ],
 "metadata": {
  "language_info": {
   "name": "python"
  }
 },
 "nbformat": 4,
 "nbformat_minor": 2
}
